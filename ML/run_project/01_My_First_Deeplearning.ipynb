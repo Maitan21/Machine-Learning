{
 "cells": [
  {
   "cell_type": "code",
   "execution_count": 4,
   "metadata": {
    "tags": []
   },
   "outputs": [
    {
     "output_type": "stream",
     "name": "stdout",
     "text": "Epoch 1/100\n47/47 [==============================] - 0s 633us/step - loss: 0.6482 - accuracy: 0.8128\nEpoch 2/100\n47/47 [==============================] - 0s 517us/step - loss: 0.4890 - accuracy: 0.8468\nEpoch 3/100\n47/47 [==============================] - 0s 559us/step - loss: 0.4416 - accuracy: 0.8511\nEpoch 4/100\n47/47 [==============================] - 0s 580us/step - loss: 0.4863 - accuracy: 0.8489\nEpoch 5/100\n47/47 [==============================] - 0s 507us/step - loss: 0.4430 - accuracy: 0.8532\nEpoch 6/100\n47/47 [==============================] - 0s 496us/step - loss: 0.4303 - accuracy: 0.8532\nEpoch 7/100\n47/47 [==============================] - 0s 464us/step - loss: 0.4421 - accuracy: 0.8511\nEpoch 8/100\n47/47 [==============================] - 0s 464us/step - loss: 0.4363 - accuracy: 0.8489\nEpoch 9/100\n47/47 [==============================] - 0s 485us/step - loss: 0.4165 - accuracy: 0.8489\nEpoch 10/100\n47/47 [==============================] - 0s 496us/step - loss: 0.4317 - accuracy: 0.8489\nEpoch 11/100\n47/47 [==============================] - 0s 464us/step - loss: 0.4458 - accuracy: 0.8489\nEpoch 12/100\n47/47 [==============================] - 0s 475us/step - loss: 0.4384 - accuracy: 0.8532\nEpoch 13/100\n47/47 [==============================] - 0s 528us/step - loss: 0.4651 - accuracy: 0.8532\nEpoch 14/100\n47/47 [==============================] - 0s 517us/step - loss: 0.4475 - accuracy: 0.8319\nEpoch 15/100\n47/47 [==============================] - 0s 485us/step - loss: 0.4934 - accuracy: 0.8255\nEpoch 16/100\n47/47 [==============================] - 0s 454us/step - loss: 0.4472 - accuracy: 0.8447\nEpoch 17/100\n47/47 [==============================] - 0s 464us/step - loss: 0.4747 - accuracy: 0.8383\nEpoch 18/100\n47/47 [==============================] - 0s 475us/step - loss: 0.4488 - accuracy: 0.8468\nEpoch 19/100\n47/47 [==============================] - 0s 412us/step - loss: 0.4407 - accuracy: 0.8511\nEpoch 20/100\n47/47 [==============================] - 0s 580us/step - loss: 0.4380 - accuracy: 0.8511\nEpoch 21/100\n47/47 [==============================] - 0s 496us/step - loss: 0.4331 - accuracy: 0.8532\nEpoch 22/100\n47/47 [==============================] - 0s 485us/step - loss: 0.4242 - accuracy: 0.8511\nEpoch 23/100\n47/47 [==============================] - 0s 454us/step - loss: 0.4183 - accuracy: 0.8532\nEpoch 24/100\n47/47 [==============================] - 0s 485us/step - loss: 0.4303 - accuracy: 0.8489\nEpoch 25/100\n47/47 [==============================] - 0s 464us/step - loss: 0.4246 - accuracy: 0.8511\nEpoch 26/100\n47/47 [==============================] - 0s 464us/step - loss: 0.4335 - accuracy: 0.8532\nEpoch 27/100\n47/47 [==============================] - 0s 443us/step - loss: 0.4492 - accuracy: 0.8383\nEpoch 28/100\n47/47 [==============================] - 0s 443us/step - loss: 0.4241 - accuracy: 0.8532\nEpoch 29/100\n47/47 [==============================] - 0s 422us/step - loss: 0.4212 - accuracy: 0.8532\nEpoch 30/100\n47/47 [==============================] - 0s 443us/step - loss: 0.4136 - accuracy: 0.8511\nEpoch 31/100\n47/47 [==============================] - 0s 433us/step - loss: 0.4389 - accuracy: 0.8511\nEpoch 32/100\n47/47 [==============================] - 0s 443us/step - loss: 0.4188 - accuracy: 0.8553\nEpoch 33/100\n47/47 [==============================] - 0s 464us/step - loss: 0.4428 - accuracy: 0.8532\nEpoch 34/100\n47/47 [==============================] - 0s 454us/step - loss: 0.4103 - accuracy: 0.8489\nEpoch 35/100\n47/47 [==============================] - 0s 443us/step - loss: 0.4178 - accuracy: 0.8489\nEpoch 36/100\n47/47 [==============================] - 0s 454us/step - loss: 0.4136 - accuracy: 0.8532\nEpoch 37/100\n47/47 [==============================] - 0s 454us/step - loss: 0.4429 - accuracy: 0.8511\nEpoch 38/100\n47/47 [==============================] - 0s 433us/step - loss: 0.4258 - accuracy: 0.8489\nEpoch 39/100\n47/47 [==============================] - 0s 485us/step - loss: 0.4714 - accuracy: 0.8319\nEpoch 40/100\n47/47 [==============================] - 0s 433us/step - loss: 0.4041 - accuracy: 0.8574\nEpoch 41/100\n47/47 [==============================] - 0s 422us/step - loss: 0.4210 - accuracy: 0.8511\nEpoch 42/100\n47/47 [==============================] - 0s 464us/step - loss: 0.4418 - accuracy: 0.8447\nEpoch 43/100\n47/47 [==============================] - 0s 475us/step - loss: 0.4096 - accuracy: 0.8511\nEpoch 44/100\n47/47 [==============================] - 0s 443us/step - loss: 0.4032 - accuracy: 0.8511\nEpoch 45/100\n47/47 [==============================] - 0s 433us/step - loss: 0.4067 - accuracy: 0.8532\nEpoch 46/100\n47/47 [==============================] - 0s 464us/step - loss: 0.4030 - accuracy: 0.8532\nEpoch 47/100\n47/47 [==============================] - 0s 475us/step - loss: 0.4132 - accuracy: 0.8447\nEpoch 48/100\n47/47 [==============================] - 0s 464us/step - loss: 0.4026 - accuracy: 0.8532\nEpoch 49/100\n47/47 [==============================] - 0s 485us/step - loss: 0.4082 - accuracy: 0.8511\nEpoch 50/100\n47/47 [==============================] - 0s 454us/step - loss: 0.4097 - accuracy: 0.8511\nEpoch 51/100\n47/47 [==============================] - 0s 454us/step - loss: 0.4124 - accuracy: 0.8532\nEpoch 52/100\n47/47 [==============================] - 0s 443us/step - loss: 0.3972 - accuracy: 0.8553\nEpoch 53/100\n47/47 [==============================] - 0s 675us/step - loss: 0.4128 - accuracy: 0.8489\nEpoch 54/100\n47/47 [==============================] - 0s 517us/step - loss: 0.4073 - accuracy: 0.8468\nEpoch 55/100\n47/47 [==============================] - 0s 496us/step - loss: 0.4110 - accuracy: 0.8532\nEpoch 56/100\n47/47 [==============================] - 0s 538us/step - loss: 0.3921 - accuracy: 0.8532\nEpoch 57/100\n47/47 [==============================] - 0s 443us/step - loss: 0.4091 - accuracy: 0.8532\nEpoch 58/100\n47/47 [==============================] - 0s 443us/step - loss: 0.3995 - accuracy: 0.8574\nEpoch 59/100\n47/47 [==============================] - 0s 422us/step - loss: 0.3985 - accuracy: 0.8532\nEpoch 60/100\n47/47 [==============================] - 0s 464us/step - loss: 0.3899 - accuracy: 0.8574\nEpoch 61/100\n47/47 [==============================] - 0s 443us/step - loss: 0.4041 - accuracy: 0.8553\nEpoch 62/100\n47/47 [==============================] - 0s 454us/step - loss: 0.4246 - accuracy: 0.8468\nEpoch 63/100\n47/47 [==============================] - 0s 422us/step - loss: 0.4068 - accuracy: 0.8532\nEpoch 64/100\n47/47 [==============================] - 0s 433us/step - loss: 0.4318 - accuracy: 0.8511\nEpoch 65/100\n47/47 [==============================] - 0s 433us/step - loss: 0.3902 - accuracy: 0.8553\nEpoch 66/100\n47/47 [==============================] - 0s 454us/step - loss: 0.4312 - accuracy: 0.8511\nEpoch 67/100\n47/47 [==============================] - 0s 464us/step - loss: 0.4164 - accuracy: 0.8489\nEpoch 68/100\n47/47 [==============================] - 0s 433us/step - loss: 0.4090 - accuracy: 0.8511\nEpoch 69/100\n47/47 [==============================] - 0s 454us/step - loss: 0.4020 - accuracy: 0.8511\nEpoch 70/100\n47/47 [==============================] - 0s 454us/step - loss: 0.3986 - accuracy: 0.8574\nEpoch 71/100\n47/47 [==============================] - 0s 433us/step - loss: 0.4027 - accuracy: 0.8511\nEpoch 72/100\n47/47 [==============================] - 0s 464us/step - loss: 0.4196 - accuracy: 0.8340\nEpoch 73/100\n47/47 [==============================] - 0s 496us/step - loss: 0.4019 - accuracy: 0.8532\nEpoch 74/100\n47/47 [==============================] - 0s 454us/step - loss: 0.3907 - accuracy: 0.8553\nEpoch 75/100\n47/47 [==============================] - 0s 496us/step - loss: 0.3890 - accuracy: 0.8553\nEpoch 76/100\n47/47 [==============================] - 0s 475us/step - loss: 0.4077 - accuracy: 0.8553\nEpoch 77/100\n47/47 [==============================] - 0s 517us/step - loss: 0.4178 - accuracy: 0.8426\nEpoch 78/100\n47/47 [==============================] - 0s 496us/step - loss: 0.4080 - accuracy: 0.8553\nEpoch 79/100\n47/47 [==============================] - 0s 538us/step - loss: 0.4148 - accuracy: 0.8426\nEpoch 80/100\n47/47 [==============================] - 0s 591us/step - loss: 0.4019 - accuracy: 0.8468\nEpoch 81/100\n47/47 [==============================] - 0s 475us/step - loss: 0.4057 - accuracy: 0.8532\nEpoch 82/100\n47/47 [==============================] - 0s 464us/step - loss: 0.4184 - accuracy: 0.8489\nEpoch 83/100\n47/47 [==============================] - 0s 475us/step - loss: 0.3944 - accuracy: 0.8532\nEpoch 84/100\n47/47 [==============================] - 0s 475us/step - loss: 0.4345 - accuracy: 0.8468\nEpoch 85/100\n47/47 [==============================] - 0s 464us/step - loss: 0.4050 - accuracy: 0.8489\nEpoch 86/100\n47/47 [==============================] - 0s 454us/step - loss: 0.3922 - accuracy: 0.8489\nEpoch 87/100\n47/47 [==============================] - 0s 443us/step - loss: 0.3976 - accuracy: 0.8511\nEpoch 88/100\n47/47 [==============================] - 0s 475us/step - loss: 0.3966 - accuracy: 0.8468\nEpoch 89/100\n47/47 [==============================] - 0s 464us/step - loss: 0.3886 - accuracy: 0.8468\nEpoch 90/100\n47/47 [==============================] - 0s 496us/step - loss: 0.3965 - accuracy: 0.8596\nEpoch 91/100\n47/47 [==============================] - 0s 475us/step - loss: 0.4220 - accuracy: 0.8532\nEpoch 92/100\n47/47 [==============================] - 0s 559us/step - loss: 0.4198 - accuracy: 0.8489\nEpoch 93/100\n47/47 [==============================] - 0s 570us/step - loss: 0.3953 - accuracy: 0.8511\nEpoch 94/100\n47/47 [==============================] - 0s 570us/step - loss: 0.3871 - accuracy: 0.8489\nEpoch 95/100\n47/47 [==============================] - 0s 633us/step - loss: 0.3864 - accuracy: 0.8574\nEpoch 96/100\n47/47 [==============================] - 0s 644us/step - loss: 0.4229 - accuracy: 0.8426\nEpoch 97/100\n47/47 [==============================] - 0s 485us/step - loss: 0.4149 - accuracy: 0.8447\nEpoch 98/100\n47/47 [==============================] - 0s 496us/step - loss: 0.3857 - accuracy: 0.8596\nEpoch 99/100\n47/47 [==============================] - 0s 507us/step - loss: 0.4051 - accuracy: 0.8532\nEpoch 100/100\n47/47 [==============================] - 0s 496us/step - loss: 0.3832 - accuracy: 0.8468\n"
    },
    {
     "output_type": "execute_result",
     "data": {
      "text/plain": "<tensorflow.python.keras.callbacks.History at 0x1b130ddbb80>"
     },
     "metadata": {},
     "execution_count": 4
    }
   ],
   "source": [
    "# -*- coding: utf-8 -*-\n",
    "# 코드 내부에 한글을 사용가능 하게 해주는 부분입니다.\n",
    "\n",
    "# 딥러닝을 구동하는 데 필요한 케라스 함수를 불러옵니다.\n",
    "from tensorflow.keras.models import Sequential\n",
    "from tensorflow.keras.layers import Dense\n",
    "\n",
    "# 필요한 라이브러리를 불러옵니다.\n",
    "import numpy as np\n",
    "import tensorflow as tf\n",
    "\n",
    "# 실행할 때마다 같은 결과를 출력하기 위해 설정하는 부분입니다.\n",
    "np.random.seed(3)\n",
    "tf.random.set_seed(3)\n",
    "\n",
    "# 준비된 수술 환자 데이터를 불러들입니다.\n",
    "Data_set = np.loadtxt(\"../dataset/ThoraricSurgery.csv\", delimiter=\",\")\n",
    "\n",
    "# 환자의 기록과 수술 결과를 X와 Y로 구분하여 저장합니다.\n",
    "X = Data_set[:,0:17]\n",
    "Y = Data_set[:,17]\n",
    "\n",
    "# 딥러닝 구조를 결정합니다(모델을 설정하고 실행하는 부분입니다). ML Main Fuction\n",
    "model = Sequential()\n",
    "model.add(Dense(30, input_dim=17, activation='relu'))\n",
    "model.add(Dense(1, activation='sigmoid'))\n",
    "\n",
    "# 딥러닝을 실행합니다.\n",
    "#loss MSE 사용 가능 하지만, 성능 떨어짐\n",
    "model.compile(loss='binary_crossentropy', optimizer='adam', metrics=['accuracy'])\n",
    "model.fit(X, Y, epochs=100, batch_size=10)\n"
   ]
  },
  {
   "cell_type": "code",
   "execution_count": 8,
   "metadata": {
    "tags": []
   },
   "outputs": [
    {
     "output_type": "stream",
     "name": "stdout",
     "text": "Test loss :  0.3724135458469391\nTest accuracy :  0.8553191423416138\n"
    }
   ],
   "source": [
    "#예측값 도출 \n",
    "score = model.evaluate(X,Y,verbose=0)\n",
    "\n",
    "print('Test loss : ', score[0])\n",
    "print('Test accuracy : ',score[1])"
   ]
  },
  {
   "cell_type": "code",
   "execution_count": null,
   "metadata": {},
   "outputs": [],
   "source": []
  }
 ],
 "metadata": {
  "kernelspec": {
   "display_name": "Python 3.8.5 64-bit ('ML_KNU': conda)",
   "language": "python",
   "name": "python_defaultSpec_1599105481949"
  },
  "language_info": {
   "codemirror_mode": {
    "name": "ipython",
    "version": 3
   },
   "file_extension": ".py",
   "mimetype": "text/x-python",
   "name": "python",
   "nbconvert_exporter": "python",
   "pygments_lexer": "ipython3",
   "version": "3.8.5-final"
  }
 },
 "nbformat": 4,
 "nbformat_minor": 2
}