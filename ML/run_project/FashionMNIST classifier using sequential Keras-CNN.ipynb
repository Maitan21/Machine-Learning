{
 "cells": [
  {
   "cell_type": "code",
   "execution_count": 1,
   "metadata": {},
   "outputs": [
    {
     "name": "stdout",
     "output_type": "stream",
     "text": [
      "2.3.0\n",
      "2.4.0\n"
     ]
    }
   ],
   "source": [
    "import tensorflow as tf\n",
    "from tensorflow import keras\n",
    "\n",
    "print(tf.__version__)\n",
    "print(keras.__version__)\n",
    "\n",
    "tf.random.set_seed(42)"
   ]
  },
  {
   "cell_type": "code",
   "execution_count": 2,
   "metadata": {},
   "outputs": [
    {
     "name": "stdout",
     "output_type": "stream",
     "text": [
      "(60000, 28, 28) (10000, 28, 28)\n"
     ]
    }
   ],
   "source": [
    "# load Fashion MNIST data\n",
    "fashion_mnist = keras.datasets.fashion_mnist\n",
    "(X_train_full, y_train_full), (X_test, y_test) = fashion_mnist.load_data()\n",
    "\n",
    "print(X_train_full.shape, X_test.shape)"
   ]
  },
  {
   "cell_type": "code",
   "execution_count": 3,
   "metadata": {},
   "outputs": [
    {
     "name": "stdout",
     "output_type": "stream",
     "text": [
      "(5000, 28, 28, 1) (55000, 28, 28, 1)\n"
     ]
    }
   ],
   "source": [
    "# split it into training and validation sets\n",
    "# val: 5000, train: 55000\n",
    "X_valid, X_train = X_train_full[:5000] / 255., X_train_full[5000:] / 255.\n",
    "y_valid, y_train = y_train_full[:5000], y_train_full[5000:]\n",
    "X_test = X_test / 255.\n",
    "\n",
    "import numpy as np\n",
    "X_train = X_train[..., np.newaxis]\n",
    "X_valid = X_valid[..., np.newaxis]\n",
    "X_test = X_test[..., np.newaxis]\n",
    "print(X_valid.shape, X_train.shape)\n"
   ]
  },
  {
   "cell_type": "code",
   "execution_count": 4,
   "metadata": {},
   "outputs": [
    {
     "name": "stdout",
     "output_type": "stream",
     "text": [
      "Model: \"sequential\"\n",
      "_________________________________________________________________\n",
      "Layer (type)                 Output Shape              Param #   \n",
      "=================================================================\n",
      "conv2d (Conv2D)              (None, 28, 28, 32)        320       \n",
      "_________________________________________________________________\n",
      "max_pooling2d (MaxPooling2D) (None, 14, 14, 32)        0         \n",
      "_________________________________________________________________\n",
      "conv2d_1 (Conv2D)            (None, 14, 14, 64)        18496     \n",
      "_________________________________________________________________\n",
      "max_pooling2d_1 (MaxPooling2 (None, 7, 7, 64)          0         \n",
      "_________________________________________________________________\n",
      "conv2d_2 (Conv2D)            (None, 7, 7, 128)         73856     \n",
      "_________________________________________________________________\n",
      "max_pooling2d_2 (MaxPooling2 (None, 3, 3, 128)         0         \n",
      "_________________________________________________________________\n",
      "flatten (Flatten)            (None, 1152)              0         \n",
      "_________________________________________________________________\n",
      "dense (Dense)                (None, 128)               147584    \n",
      "_________________________________________________________________\n",
      "dropout (Dropout)            (None, 128)               0         \n",
      "_________________________________________________________________\n",
      "dense_1 (Dense)              (None, 10)                1290      \n",
      "=================================================================\n",
      "Total params: 241,546\n",
      "Trainable params: 241,546\n",
      "Non-trainable params: 0\n",
      "_________________________________________________________________\n"
     ]
    }
   ],
   "source": [
    "from functools import partial\n",
    "\n",
    "DefaultConv2D = partial(keras.layers.Conv2D,\n",
    "                        kernel_size=3, activation='relu', padding=\"SAME\")\n",
    "\n",
    "model = keras.models.Sequential([\n",
    "    DefaultConv2D(filters=32, kernel_size=3, input_shape=[28, 28, 1]),\n",
    "    keras.layers.MaxPooling2D(pool_size=2),\n",
    "    DefaultConv2D(filters=64),\n",
    "    keras.layers.MaxPooling2D(pool_size=2),\n",
    "    DefaultConv2D(filters=128),\n",
    "    keras.layers.MaxPooling2D(pool_size=2),\n",
    "    keras.layers.Flatten(),\n",
    "    keras.layers.Dense(units=128, activation='relu'),\n",
    "    keras.layers.Dropout(0.2),\n",
    "    keras.layers.Dense(units=10, activation='softmax'),\n",
    "])\n",
    "\n",
    "model.compile(loss=\"sparse_categorical_crossentropy\", \n",
    "              optimizer=\"Adam\", \n",
    "              metrics=[\"accuracy\"])\n",
    "model.summary()"
   ]
  },
  {
   "cell_type": "code",
   "execution_count": 5,
   "metadata": {},
   "outputs": [
    {
     "name": "stdout",
     "output_type": "stream",
     "text": [
      "Epoch 1/30\n",
      "3438/3438 [==============================] - 45s 13ms/step - loss: 0.4489 - accuracy: 0.8366 - val_loss: 0.3082 - val_accuracy: 0.8834\n",
      "Epoch 2/30\n",
      "3438/3438 [==============================] - 44s 13ms/step - loss: 0.2860 - accuracy: 0.8949 - val_loss: 0.2663 - val_accuracy: 0.9006\n",
      "Epoch 3/30\n",
      "3438/3438 [==============================] - 43s 12ms/step - loss: 0.2460 - accuracy: 0.9102 - val_loss: 0.2385 - val_accuracy: 0.9092\n",
      "Epoch 4/30\n",
      "3438/3438 [==============================] - 47s 14ms/step - loss: 0.2147 - accuracy: 0.9204 - val_loss: 0.2425 - val_accuracy: 0.9138\n",
      "Epoch 5/30\n",
      "3438/3438 [==============================] - 44s 13ms/step - loss: 0.1924 - accuracy: 0.9290 - val_loss: 0.2079 - val_accuracy: 0.9242\n",
      "Epoch 6/30\n",
      "3438/3438 [==============================] - 44s 13ms/step - loss: 0.1763 - accuracy: 0.9349 - val_loss: 0.2169 - val_accuracy: 0.9216\n",
      "Epoch 7/30\n",
      "3438/3438 [==============================] - 43s 13ms/step - loss: 0.1591 - accuracy: 0.9403 - val_loss: 0.2139 - val_accuracy: 0.9230\n",
      "Epoch 8/30\n",
      "3438/3438 [==============================] - 45s 13ms/step - loss: 0.1417 - accuracy: 0.9457 - val_loss: 0.2261 - val_accuracy: 0.9206\n",
      "Epoch 9/30\n",
      "3438/3438 [==============================] - 44s 13ms/step - loss: 0.1295 - accuracy: 0.9499 - val_loss: 0.2233 - val_accuracy: 0.9258\n",
      "Epoch 10/30\n",
      "3438/3438 [==============================] - 44s 13ms/step - loss: 0.1189 - accuracy: 0.9541 - val_loss: 0.2572 - val_accuracy: 0.9232\n",
      "Epoch 11/30\n",
      "3438/3438 [==============================] - 46s 13ms/step - loss: 0.1118 - accuracy: 0.9583 - val_loss: 0.2689 - val_accuracy: 0.9230\n",
      "Epoch 12/30\n",
      "3438/3438 [==============================] - 45s 13ms/step - loss: 0.1022 - accuracy: 0.9603 - val_loss: 0.2657 - val_accuracy: 0.9206\n",
      "Epoch 13/30\n",
      "3438/3438 [==============================] - 45s 13ms/step - loss: 0.0985 - accuracy: 0.9623 - val_loss: 0.3106 - val_accuracy: 0.9210\n",
      "Epoch 14/30\n",
      "3438/3438 [==============================] - 44s 13ms/step - loss: 0.0919 - accuracy: 0.9649 - val_loss: 0.3036 - val_accuracy: 0.9182\n",
      "Epoch 15/30\n",
      "3438/3438 [==============================] - 46s 13ms/step - loss: 0.0851 - accuracy: 0.9672 - val_loss: 0.3024 - val_accuracy: 0.9320\n",
      "Epoch 16/30\n",
      "3438/3438 [==============================] - 43s 13ms/step - loss: 0.0841 - accuracy: 0.9688 - val_loss: 0.3166 - val_accuracy: 0.9244\n",
      "Epoch 17/30\n",
      "3438/3438 [==============================] - 42s 12ms/step - loss: 0.0785 - accuracy: 0.9701 - val_loss: 0.3667 - val_accuracy: 0.9180\n",
      "Epoch 18/30\n",
      "3438/3438 [==============================] - 44s 13ms/step - loss: 0.0752 - accuracy: 0.9710 - val_loss: 0.3436 - val_accuracy: 0.9248\n",
      "Epoch 19/30\n",
      "3438/3438 [==============================] - 44s 13ms/step - loss: 0.0727 - accuracy: 0.9728 - val_loss: 0.3615 - val_accuracy: 0.9272\n",
      "Epoch 20/30\n",
      "3438/3438 [==============================] - 46s 13ms/step - loss: 0.0708 - accuracy: 0.9744 - val_loss: 0.3446 - val_accuracy: 0.9220\n",
      "Epoch 21/30\n",
      "3438/3438 [==============================] - 45s 13ms/step - loss: 0.0698 - accuracy: 0.9750 - val_loss: 0.3707 - val_accuracy: 0.9260\n",
      "Epoch 22/30\n",
      "3438/3438 [==============================] - 43s 13ms/step - loss: 0.0689 - accuracy: 0.9750 - val_loss: 0.4103 - val_accuracy: 0.9230\n",
      "Epoch 23/30\n",
      "3438/3438 [==============================] - 42s 12ms/step - loss: 0.0650 - accuracy: 0.9761 - val_loss: 0.3692 - val_accuracy: 0.9210\n",
      "Epoch 24/30\n",
      "3438/3438 [==============================] - 43s 12ms/step - loss: 0.0605 - accuracy: 0.9782 - val_loss: 0.3890 - val_accuracy: 0.9254\n",
      "Epoch 25/30\n",
      "3438/3438 [==============================] - 43s 13ms/step - loss: 0.0610 - accuracy: 0.9789 - val_loss: 0.4305 - val_accuracy: 0.9230\n",
      "Epoch 26/30\n",
      "3438/3438 [==============================] - 45s 13ms/step - loss: 0.0620 - accuracy: 0.9791 - val_loss: 0.4392 - val_accuracy: 0.9234\n",
      "Epoch 27/30\n",
      "3438/3438 [==============================] - 45s 13ms/step - loss: 0.0583 - accuracy: 0.9792 - val_loss: 0.4209 - val_accuracy: 0.9228\n",
      "Epoch 28/30\n",
      "3438/3438 [==============================] - 45s 13ms/step - loss: 0.0629 - accuracy: 0.9784 - val_loss: 0.4152 - val_accuracy: 0.9222\n",
      "Epoch 29/30\n",
      "3438/3438 [==============================] - 46s 13ms/step - loss: 0.0594 - accuracy: 0.9790 - val_loss: 0.4527 - val_accuracy: 0.9258\n",
      "Epoch 30/30\n",
      "3438/3438 [==============================] - 44s 13ms/step - loss: 0.0555 - accuracy: 0.9803 - val_loss: 0.4994 - val_accuracy: 0.9248\n"
     ]
    }
   ],
   "source": [
    "history = model.fit(X_train, y_train, epochs=30, \n",
    "                    batch_size=16,\n",
    "                    validation_data=(X_valid, y_valid))"
   ]
  },
  {
   "cell_type": "code",
   "execution_count": 6,
   "metadata": {
    "scrolled": true
   },
   "outputs": [
    {
     "name": "stdout",
     "output_type": "stream",
     "text": [
      "313/313 [==============================] - 2s 5ms/step - loss: 0.6152 - accuracy: 0.9165\n"
     ]
    }
   ],
   "source": [
    "score = model.evaluate(X_test, y_test)\n",
    "X_new = X_test[:10] # pretend we have new images\n",
    "y_pred = model.predict(X_new)"
   ]
  },
  {
   "cell_type": "code",
   "execution_count": 8,
   "metadata": {},
   "outputs": [
    {
     "data": {
      "image/png": "[encoded data removed]",
      "text/plain": [
       "<Figure size 576x360 with 1 Axes>"
      ]
     },
     "metadata": {
      "needs_background": "light"
     },
     "output_type": "display_data"
    }
   ],
   "source": [
    "import pandas as pd\n",
    "import matplotlib.pyplot as plt\n",
    "\n",
    "pd.DataFrame(history.history).plot(figsize=(8, 5))\n",
    "plt.grid(True)\n",
    "plt.gca().set_ylim(0, 1)\n",
    "plt.show()"
   ]
  },
  {
   "cell_type": "code",
   "execution_count": null,
   "metadata": {},
   "outputs": [],
   "source": []
  }
 ],
 "metadata": {
  "kernelspec": {
   "display_name": "imltf2",
   "language": "python",
   "name": "iml"
  },
  "language_info": {
   "codemirror_mode": {
    "name": "ipython",
    "version": 3
   },
   "file_extension": ".py",
   "mimetype": "text/x-python",
   "name": "python",
   "nbconvert_exporter": "python",
   "pygments_lexer": "ipython3",
   "version": "3.7.4"
  }
 },
 "nbformat": 4,
 "nbformat_minor": 4
}
